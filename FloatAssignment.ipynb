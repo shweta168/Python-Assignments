{
 "cells": [
  {
   "cell_type": "markdown",
   "id": "92dac49e",
   "metadata": {},
   "source": [
    "Q. Declare a float value and store it in a variable.\n",
    "Check the type and print the id of the same."
   ]
  },
  {
   "cell_type": "code",
   "execution_count": 2,
   "id": "d423f50a",
   "metadata": {},
   "outputs": [
    {
     "name": "stdout",
     "output_type": "stream",
     "text": [
      "Type of f is:  <class 'float'>\n",
      "id of f is :  1305601703504\n"
     ]
    }
   ],
   "source": [
    "f=10.2\n",
    "print(\"Type of f is: \",type(f))\n",
    "print(\"id of f is : \",id(f))"
   ]
  },
  {
   "cell_type": "markdown",
   "id": "ad730961",
   "metadata": {},
   "source": [
    "Q. Arithmetic Operations on float\n",
    "Take two different float values.\n",
    "Store them in two different variables.\n",
    "Do below operations on them:-\n",
    " Find sum of both numbers\n",
    " Find difference between them\n",
    " Find the product of both numbers.\n",
    " Find value after dividing first num with second number\n",
    " Find the remainder after dividing first number with second number\n",
    " Find the quotient after dividing first number with second number\n",
    " Find the result of the first num to the power of the second number.\n"
   ]
  },
  {
   "cell_type": "code",
   "execution_count": 3,
   "id": "c0d1d0e1",
   "metadata": {},
   "outputs": [
    {
     "name": "stdout",
     "output_type": "stream",
     "text": [
      "Sum of num1 and num2 is:  22.75\n",
      "\n",
      "Difference of num1 and num2 is:  -2.25\n",
      "\n",
      "Product of num1 and num2 is:  128.125\n",
      "\n",
      "Division of num1 and num2 is:  0.82\n",
      "\n",
      "Remainder of num1 and num2 is:  10.25\n",
      "\n",
      "Power of num1 and num2 is:  4305745113592.02\n",
      "\n"
     ]
    }
   ],
   "source": [
    "num1=10.25\n",
    "num2=12.5\n",
    "#Find sum of both numbers\n",
    "print(\"Sum of num1 and num2 is: \",num1+num2)\n",
    "print()\n",
    "#Find difference between them\n",
    "print(\"Difference of num1 and num2 is: \",num1-num2)\n",
    "print()\n",
    "#Find the product of both numbers.\n",
    "print(\"Product of num1 and num2 is: \",num1*num2)\n",
    "print()\n",
    "#Find value after dividing first num with second number\n",
    "print(\"Division of num1 and num2 is: \",num1/num2)\n",
    "print()\n",
    "#Find the remainder after dividing first number with second number\n",
    "print(\"Remainder of num1 and num2 is: \",num1%num2)\n",
    "print()\n",
    "#Find the result of the first num to the power of the second number.\n",
    "print(\"Power of num1 and num2 is: \",pow(num1,num2))\n",
    "print()"
   ]
  },
  {
   "cell_type": "markdown",
   "id": "39950bf7",
   "metadata": {},
   "source": [
    "Q. Comparison Operators on float\n",
    "Take two different float values.\n",
    "Store them in two different variables.\n",
    "Do below operations on them:-\n",
    " Compare these two numbers with below operator:-\n",
    " Greater than, '>'\n",
    " Smaller than, '<'\n",
    " Greater than or equal to, '>='\n",
    " Less than or equal to, '<='\n",
    "Observe their output(return type should be boolean)"
   ]
  },
  {
   "cell_type": "code",
   "execution_count": 4,
   "id": "5e04f6f8",
   "metadata": {},
   "outputs": [
    {
     "name": "stdout",
     "output_type": "stream",
     "text": [
      "Greater than or not Using > :  False\n",
      "\n",
      "Smaller than or not Using < :  True\n",
      "\n",
      "Greater than or Equal to or not Using >= :  False\n",
      "\n",
      "Lesser than or Equal to not Using <= :  True\n",
      "\n"
     ]
    }
   ],
   "source": [
    "num1=10.25\n",
    "num2=12.5\n",
    "print(\"Greater than or not Using > : \",num1>num2)\n",
    "print()\n",
    "print(\"Smaller than or not Using < : \",num1<num2)\n",
    "print()\n",
    "print(\"Greater than or Equal to or not Using >= : \",num1>=num2)\n",
    "print()\n",
    "print(\"Lesser than or Equal to not Using <= : \",num1<=num2)\n",
    "print()\n"
   ]
  },
  {
   "cell_type": "markdown",
   "id": "d6581172",
   "metadata": {},
   "source": [
    "Q. Equality Operator\n",
    "Take two different float values.\n",
    "Store them in two different variables.\n",
    "Equate them using equality operators (==, !=)\n",
    "Observe the output(return type should be boolean)"
   ]
  },
  {
   "cell_type": "code",
   "execution_count": 5,
   "id": "974e2b5a",
   "metadata": {},
   "outputs": [
    {
     "name": "stdout",
     "output_type": "stream",
     "text": [
      "Checking Equal:  True\n",
      "\n",
      "Checking Not Equal:  False\n"
     ]
    }
   ],
   "source": [
    "num1=20.58\n",
    "num2=20.58\n",
    "print(\"Checking Equal: \",num1==num2)\n",
    "print()\n",
    "print(\"Checking Not Equal: \",num1!=num2)"
   ]
  },
  {
   "cell_type": "markdown",
   "id": "3bd6e593",
   "metadata": {},
   "source": [
    "Q. What is the output of expression inside print statement. Cross check\n",
    "before running the program.\n",
    "a = 10.20\n",
    "b = 10.20\n",
    "print(a is b) #True or False? \n",
    "True 10.20<256\n",
    "print(a is not b) #True or False?\n",
    "False\n",
    "Why the Id of float values are different when the same value is\n",
    "assigned to two different variables\n",
    "ex: a = 10.5 b=10.5. but id will be same if I assign the variable\n",
    "having float i.e. a=c then both a and c's Id are same"
   ]
  },
  {
   "cell_type": "code",
   "execution_count": 8,
   "id": "b1d9683d",
   "metadata": {},
   "outputs": [
    {
     "name": "stdout",
     "output_type": "stream",
     "text": [
      "1305601700816\n",
      "1305612792368\n",
      "1305601700816\n"
     ]
    }
   ],
   "source": [
    "a=10.20\n",
    "b=10.20\n",
    "print(id(a))\n",
    "print(id(b))\n",
    "c=a\n",
    "print(id(c))\n",
    "#Reason: a and b will be pointing to different memory location. and when we assign c=a,then c will be pointing to the same memory location as of a."
   ]
  },
  {
   "cell_type": "raw",
   "id": "03099a70",
   "metadata": {},
   "source": [
    "Q. Membership operation\n",
    "in, not in are two membership operators and it returns boolean value\n",
    "print('2.7' in 'Python2.7.8') \n",
    "Output: True\n",
    "print(10.20 in [10,10.20,10+20j,'Python']) \n",
    "Output: True\n",
    "print(10.20 in (10,10.20,10+20j,'Python')) \n",
    "Output:True\n",
    "print(20.30 in {1,20.30,30+40j}) \n",
    "Output:True\n",
    "print(2.3 in {1:100, 2.3:200, 30+40j:300}) \n",
    "Output:True\n",
    "print(10 in range(20)) \n",
    "Output:True"
   ]
  },
  {
   "cell_type": "code",
   "execution_count": null,
   "id": "79b53d61",
   "metadata": {},
   "outputs": [],
   "source": []
  }
 ],
 "metadata": {
  "kernelspec": {
   "display_name": "Python 3 (ipykernel)",
   "language": "python",
   "name": "python3"
  },
  "language_info": {
   "codemirror_mode": {
    "name": "ipython",
    "version": 3
   },
   "file_extension": ".py",
   "mimetype": "text/x-python",
   "name": "python",
   "nbconvert_exporter": "python",
   "pygments_lexer": "ipython3",
   "version": "3.9.12"
  }
 },
 "nbformat": 4,
 "nbformat_minor": 5
}

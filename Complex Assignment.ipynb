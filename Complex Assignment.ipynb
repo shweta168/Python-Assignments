{
 "cells": [
  {
   "cell_type": "markdown",
   "id": "c114f6e7",
   "metadata": {},
   "source": [
    "Q1. Declare a complex number and store it in a variable.\n",
    "Check the type and print the id of the same."
   ]
  },
  {
   "cell_type": "code",
   "execution_count": 1,
   "id": "9003fee4",
   "metadata": {},
   "outputs": [
    {
     "name": "stdout",
     "output_type": "stream",
     "text": [
      "<class 'complex'>\n",
      "2540659160144\n"
     ]
    }
   ],
   "source": [
    "complexnum=10+2j\n",
    "print(type(complexnum))\n",
    "print(id(complexnum))"
   ]
  },
  {
   "cell_type": "markdown",
   "id": "fe943fcd",
   "metadata": {},
   "source": [
    "Q. Arithmetic Operations on complex number\n",
    "Take two different complex numbers.\n",
    "Store them in two different variables.\n",
    "Do below operations on them:-\n",
    " Find sum of both numbers\n",
    " Find difference between them\n",
    " Find the product of both numbers.\n",
    " Find value after dividing first num with second number\n",
    " Find the result of the first num to the power of the second number.\n"
   ]
  },
  {
   "cell_type": "code",
   "execution_count": 2,
   "id": "30221dc5",
   "metadata": {},
   "outputs": [
    {
     "name": "stdout",
     "output_type": "stream",
     "text": [
      "Sum of num1 and num2 is:  (30+5j)\n",
      "\n",
      "Difference of num1 and num2 is:  (-10-1j)\n",
      "\n",
      "Product of num1 and num2 is:  (194+70j)\n",
      "\n",
      "Division of num1 and num2 is:  (0.5036674816625918+0.02444987775061125j)\n",
      "\n",
      "Power of num1 and num2 is:  (-6.630867778394768e+18-8.160579786973218e+19j)\n",
      "\n"
     ]
    }
   ],
   "source": [
    "num1=10+2j\n",
    "num2=20+3j\n",
    "#Find sum of both numbers\n",
    "print(\"Sum of num1 and num2 is: \",num1+num2)\n",
    "print()\n",
    "#Find difference between them\n",
    "print(\"Difference of num1 and num2 is: \",num1-num2)\n",
    "print()\n",
    "#Find the product of both numbers.\n",
    "print(\"Product of num1 and num2 is: \",num1*num2)\n",
    "print()\n",
    "#Find value after dividing first num with second number\n",
    "print(\"Division of num1 and num2 is: \",num1/num2)\n",
    "print()\n",
    "#Find the result of the first num to the power of the second number.\n",
    "print(\"Power of num1 and num2 is: \",pow(num1,num2))\n",
    "print()"
   ]
  },
  {
   "cell_type": "markdown",
   "id": "2fa31011",
   "metadata": {},
   "source": [
    "Equality Operator\n",
    "Take two different complex numbers.\n",
    "Store them in two different variables.\n",
    "Equate them using equality operators (==, !=)\n",
    "Observe the output(return type should be boolean)"
   ]
  },
  {
   "cell_type": "code",
   "execution_count": 4,
   "id": "ec522f74",
   "metadata": {},
   "outputs": [
    {
     "name": "stdout",
     "output_type": "stream",
     "text": [
      "Equal or not:   False\n",
      "Checking for equal or not :  True\n"
     ]
    }
   ],
   "source": [
    "num1=10+2j\n",
    "num2=20+3j\n",
    "print(\"Equal or not:using EQAULOPERATOR  \", num1==num2)\n",
    "print(\"Checking for equal or not using NOT EQUAL OPERATOR: \",num1!=num2)"
   ]
  },
  {
   "cell_type": "raw",
   "id": "cb0f4043",
   "metadata": {},
   "source": [
    "Q What is the output of the expression inside the print statement.\n",
    "Cross check before running the program.\n",
    "a = 10+20j\n",
    "b = 10+20j\n",
    "print(a is b) #False #True or False?\n",
    "OUTPUT : False\n",
    "print(a is not b) #True #True or False?\n",
    "Output: True"
   ]
  },
  {
   "cell_type": "raw",
   "id": "ce41b4b0",
   "metadata": {},
   "source": [
    "Membership operation\n",
    "in, not in are two membership operators and it returns boolean value\n",
    "print('2.7' in 'Python2.7.8') \n",
    "Output: True\n",
    "print(10+20j in [10,10.20,10+20j,'Python']) \n",
    "Output:True\n",
    "print(10+20j in (10,10.20,10+20j,'Python')) \n",
    "Output:True\n",
    "print(30+40j in {1,20.30,30+40j}) \n",
    "Output:True\n",
    "print(30+40j in {1:100, 2.3:200, 30+40j:300}) \n",
    "Output:True\n",
    "print(10 in range(20)) \n",
    "Output: True"
   ]
  }
 ],
 "metadata": {
  "kernelspec": {
   "display_name": "Python 3 (ipykernel)",
   "language": "python",
   "name": "python3"
  },
  "language_info": {
   "codemirror_mode": {
    "name": "ipython",
    "version": 3
   },
   "file_extension": ".py",
   "mimetype": "text/x-python",
   "name": "python",
   "nbconvert_exporter": "python",
   "pygments_lexer": "ipython3",
   "version": "3.9.12"
  }
 },
 "nbformat": 4,
 "nbformat_minor": 5
}

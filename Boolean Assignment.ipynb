{
 "cells": [
  {
   "cell_type": "markdown",
   "id": "4adf536d",
   "metadata": {},
   "source": [
    "# BOOLEAN ASSIGNMENT"
   ]
  },
  {
   "cell_type": "markdown",
   "id": "9ca3e87f",
   "metadata": {},
   "source": [
    "Q1.Declare a boolean value and store it in a variable.\n",
    "Check the type and print the id of the same."
   ]
  },
  {
   "cell_type": "code",
   "execution_count": 2,
   "id": "1c382d2c",
   "metadata": {},
   "outputs": [
    {
     "name": "stdout",
     "output_type": "stream",
     "text": [
      "<class 'bool'>\n",
      "ID is : 140711864948840\n"
     ]
    }
   ],
   "source": [
    "b=True\n",
    "print(type(b))\n",
    "print(\"ID is :\",id(b))"
   ]
  },
  {
   "cell_type": "markdown",
   "id": "9255416f",
   "metadata": {},
   "source": [
    "Q2. Take one boolean value between 0 - 256.\n",
    "Assign it to two different variables.\n",
    "Check the id of both the variables. It should come the same. Check why?"
   ]
  },
  {
   "cell_type": "code",
   "execution_count": 4,
   "id": "3d161d41",
   "metadata": {},
   "outputs": [
    {
     "name": "stdout",
     "output_type": "stream",
     "text": [
      "Id of b1 value is :  140711864948840\n",
      "Id of b2 value is :  140711864948840\n"
     ]
    }
   ],
   "source": [
    "num1=5\n",
    "num2=15\n",
    "b1=bool(num1)\n",
    "b2=bool(num2)\n",
    "print(\"Id of b1 value is : \",id(b1))\n",
    "print(\"Id of b2 value is : \",id(b2))"
   ]
  },
  {
   "cell_type": "markdown",
   "id": "7c8b2338",
   "metadata": {},
   "source": [
    "Q3. Arithmetic Operations on boolean data\n",
    "Take two different boolean values.\n",
    "Store them in two different variables.\n",
    "Do below operations on them:-\n",
    "Find sum of both values\n",
    "Find difference between them\n",
    "Find the product of both.\n",
    "Find value after dividing first value with second value\n",
    "Find the remainder after dividing first value with second value\n",
    "Find the quotient after dividing first value with second value\n",
    "Find the result of first value to the power of second value."
   ]
  },
  {
   "cell_type": "code",
   "execution_count": 9,
   "id": "db702af5",
   "metadata": {},
   "outputs": [
    {
     "name": "stdout",
     "output_type": "stream",
     "text": [
      "Sum is:  35 Boolean sum is :  2\n",
      "Difference is :  -5 Boolean Difference is :  0\n",
      "Product is:  300 Boolean Product is:  1\n",
      "Dividing:  0.75 Boolean Division:  1.0\n",
      "Remainder:  15 Boolean Remainder  0\n",
      "Dividing:  0.75 Boolean Division:  1.0\n",
      "Power:  332525673007965087890625 Boolean Value power:  1\n"
     ]
    }
   ],
   "source": [
    "num1=15\n",
    "num2=20\n",
    "num12=bool(num1)\n",
    "num21=bool(num2)\n",
    "#### FIND THE SUM OF BOTH VALUE\n",
    "print(\"Sum is: \",num1+num2,\"Boolean sum is : \", num12+num21)\n",
    "####Find difference between them\n",
    "print(\"Difference is : \",num1-num2,\"Boolean Difference is : \",num12-num21)\n",
    "#####Find the product of both\n",
    "print(\"Product is: \",num1*num2,\"Boolean Product is: \",num12*num21)\n",
    "#####  Find value after dividing first value with second value\n",
    "print(\"Dividing: \",num1/num2,\"Boolean Division: \", num12/num21)\n",
    "##### Find the remainder after dividing first value with second value \n",
    "print(\"Remainder: \",num1%num2, \"Boolean Remainder \",num12%num21)\n",
    "### Find the quotient after dividing first value with second value\n",
    "print(\"Dividing: \",num1/num2,\"Boolean Division: \", num12/num21)\n",
    "#### Find the result of first value to the power of second value.\n",
    "print(\"Power: \",pow(num1,num2) ,\"Boolean Value power: \", pow(num12,num21))"
   ]
  },
  {
   "cell_type": "markdown",
   "id": "75fdc6de",
   "metadata": {},
   "source": [
    "Q4. Comparison Operators on boolean values\n",
    "Take two different boolean values.\n",
    "Store them in two different variables.\n",
    "Do below operations on them:-\n",
    "Compare these two values with below operator:-\n",
    "Greater than, '>'\n",
    "less than, '<'\n",
    "Greater than or equal to, '>='\n",
    "Less than or equal to, '<='\n",
    "Observe their output(return type should be boolean)"
   ]
  },
  {
   "cell_type": "code",
   "execution_count": 11,
   "id": "a538a87a",
   "metadata": {},
   "outputs": [
    {
     "name": "stdout",
     "output_type": "stream",
     "text": [
      "GREATER FOR INTEGER VALUE\n",
      "True\n",
      "Less Than FOR INTEGER VALUE\n",
      "False\n",
      "GREATER Or Equal to FOR INTEGER VALUE\n",
      "True\n",
      "Less Than or equal to FOR INTEGER VALUE\n",
      "False\n",
      "GREATER FOR BOOLEAN VALUE\n",
      "False\n",
      "Less Than FOR BOOLEAN VALUE\n",
      "False\n",
      "GREATER Or Equal to FOR BOOLEAN VALUE\n",
      "True\n",
      "Less Than or equal to FOR BOOLEAN VALUE\n",
      "True\n"
     ]
    }
   ],
   "source": [
    "num1=12\n",
    "num2=3\n",
    "num12=bool(num1)\n",
    "num21=bool(num2)\n",
    "print(\"GREATER FOR INTEGER VALUE\")\n",
    "print(num1>num2)\n",
    "print(\"Less Than FOR INTEGER VALUE\")\n",
    "print(num1<num2)\n",
    "print(\"GREATER Or Equal to FOR INTEGER VALUE\")\n",
    "print(num1>=num2)\n",
    "print(\"Less Than or equal to FOR INTEGER VALUE\")\n",
    "print(num1<=num2)\n",
    "print(\"GREATER FOR BOOLEAN VALUE\")\n",
    "print(num12>num21)\n",
    "print(\"Less Than FOR BOOLEAN VALUE\")\n",
    "print(num12<num21)\n",
    "print(\"GREATER Or Equal to FOR BOOLEAN VALUE\")\n",
    "print(num12>=num21)\n",
    "print(\"Less Than or equal to FOR BOOLEAN VALUE\")\n",
    "print(num12<=num21)"
   ]
  },
  {
   "cell_type": "markdown",
   "id": "e0fd0cac",
   "metadata": {},
   "source": [
    "Q5. Equality Operator\n",
    "Take two different boolean values.\n",
    "Store them in two different variables.\n",
    "Equate them using equality operators (==, !=)\n",
    "Observe the output(return type should be boolean)"
   ]
  },
  {
   "cell_type": "code",
   "execution_count": 13,
   "id": "3bbaed81",
   "metadata": {},
   "outputs": [
    {
     "name": "stdout",
     "output_type": "stream",
     "text": [
      "For Integre Value: \n",
      "Equal  False\n",
      "Not Equal:  True\n",
      "For Boolean Value\n",
      "Equal  True\n",
      "Not Equal :  False\n"
     ]
    }
   ],
   "source": [
    "num1=12\n",
    "num2=3\n",
    "num12=bool(num1)\n",
    "num21=bool(num2)\n",
    "print(\"For Integre Value: \")\n",
    "print(\"Equal \",num1==num2)\n",
    "print(\"Not Equal: \",num1!=num2)\n",
    "print(\"For Boolean Value\")\n",
    "print(\"Equal \", num12==num21)\n",
    "print(\"Not Equal : \",num12!=num21)"
   ]
  },
  {
   "cell_type": "markdown",
   "id": "2e99beb2",
   "metadata": {},
   "source": [
    "Q6. Q. Bitwise Operators\n",
    "Do below operations on the values provided below:-\n",
    "Bitwise and(&) --------------> True, True -------> Output is True\n",
    "Bitwise or(|) --------------> True, False -------> Output is True\n",
    "Bitwise(^) --------------> True, False -------> Output is True\n",
    "Bitwise negation(~) ---------> True -------> Output is -2\n",
    "Bitwise left shift ---------> True,2 -------> Output is 4\n",
    "Bitwise right shift ---------> True,2 -------> Output is 0\n",
    "Cross check the output manually"
   ]
  },
  {
   "cell_type": "code",
   "execution_count": 16,
   "id": "6036ef22",
   "metadata": {},
   "outputs": [
    {
     "name": "stdout",
     "output_type": "stream",
     "text": [
      "BITWISE AND = True & True  True\n",
      "BITWISE OR = True | Flase  True\n",
      "BITWISE ^ = True ^ False  True\n",
      "BITWISE Negation(~) = ~True  -2\n",
      "BITWISE LEFT SHIFT = True>>2  0\n",
      "BITWISE RIGHT SHIFT = True >>2  4\n"
     ]
    }
   ],
   "source": [
    "print(\"BITWISE AND = True & True \",True&True)\n",
    "print(\"BITWISE OR = True | Flase \",True | False)\n",
    "print(\"BITWISE ^ = True ^ False \",True ^ False)\n",
    "print(\"BITWISE Negation(~) = ~True \",~True)\n",
    "print(\"BITWISE LEFT SHIFT = True>>2 \",True>>2)\n",
    "print(\"BITWISE RIGHT SHIFT = True >>2 \",True<<2)"
   ]
  },
  {
   "cell_type": "raw",
   "id": "774c27a5",
   "metadata": {},
   "source": [
    "Q Q. What is the output of expression inside the print statement. Cross\n",
    "check before running the program.\n",
    "a = True\n",
    "b = True\n",
    "print(a is b) #True or False? \n",
    "OUTPUT: TRUE\n",
    "\n",
    "print(a is not b) #True or False?\n",
    "OUTPUT FALSE\n",
    "a = False\n",
    "b = False\n",
    "print(a is b) #True or False? \n",
    "OUTPUT: TRUE\n",
    "print(a is not b) #True or False?\n",
    "OUTPUT: FALSE"
   ]
  },
  {
   "cell_type": "raw",
   "id": "217483f9",
   "metadata": {},
   "source": [
    "Q Membership operation\n",
    "in, not in are two membership operators and it returns boolean value\n",
    "print(True in [10,10.20,10+20j,'Python', True])\n",
    "OUTPUT: True\n",
    "print(False in (10,10.20,10+20j,'Python', False))\n",
    "OUTPUT: True\n",
    "print(True in {1,2,3, True})\n",
    "OUTPUT: True\n",
    "print(True in {True:100, False:200, True:300})\n",
    "OUTPUT : TRUE\n",
    "print(False in {True:100, False:200, True:300})\n",
    "OUTPUT: TRUE"
   ]
  }
 ],
 "metadata": {
  "kernelspec": {
   "display_name": "Python 3 (ipykernel)",
   "language": "python",
   "name": "python3"
  },
  "language_info": {
   "codemirror_mode": {
    "name": "ipython",
    "version": 3
   },
   "file_extension": ".py",
   "mimetype": "text/x-python",
   "name": "python",
   "nbconvert_exporter": "python",
   "pygments_lexer": "ipython3",
   "version": "3.9.12"
  }
 },
 "nbformat": 4,
 "nbformat_minor": 5
}

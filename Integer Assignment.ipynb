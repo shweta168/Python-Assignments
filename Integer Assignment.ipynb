{
 "cells": [
  {
   "cell_type": "markdown",
   "id": "04496983",
   "metadata": {},
   "source": [
    "Q. Declare an int value and store it in a variable.\n",
    "Check the type and print the id of the same.\n"
   ]
  },
  {
   "cell_type": "code",
   "execution_count": 1,
   "id": "10e8c727",
   "metadata": {},
   "outputs": [
    {
     "name": "stdout",
     "output_type": "stream",
     "text": [
      "Type:  <class 'int'>\n",
      "Id:  2630618475408\n"
     ]
    }
   ],
   "source": [
    "a=20\n",
    "print(\"Type: \",type(a))\n",
    "print(\"Id: \",id(a))"
   ]
  },
  {
   "cell_type": "markdown",
   "id": "d74c8ed5",
   "metadata": {},
   "source": [
    "Q. Take one int value between 0 - 256.\n",
    "Assign it to two different variables.\n",
    "Check the id of both the variables. It should come the same. Check why"
   ]
  },
  {
   "cell_type": "code",
   "execution_count": 3,
   "id": "ba6e2a4c",
   "metadata": {},
   "outputs": [
    {
     "name": "stdout",
     "output_type": "stream",
     "text": [
      "a:  2630618475408\n",
      "b:  2630618475408\n",
      "a:  2628558468336\n",
      "b:  2628558470480\n"
     ]
    }
   ],
   "source": [
    "a=20\n",
    "b=20\n",
    "print(\"a: \",id(a))\n",
    "print(\"b: \",id(b))\n",
    "\n",
    "a=257\n",
    "b=257\n",
    "print(\"a: \",id(a))\n",
    "print(\"b: \",id(b))\n",
    "#Reason: between the range of 0 to 256 the same location is reused,when having the same variable value."
   ]
  },
  {
   "cell_type": "code",
   "execution_count": null,
   "id": "73134a0d",
   "metadata": {},
   "outputs": [],
   "source": [
    "Q. Arithmetic Operations on integers\n",
    "Take two different integer values.\n",
    "Store them in two different variables.\n",
    "Do below operations on them:-\n",
    " Find sum of both numbers\n",
    " Find difference between them\n",
    " Find the product of both numbers.\n",
    " Find value after dividing first num with second number\n",
    " Find the remainder after dividing first number with second number\n",
    " Find the quotient after dividing first number with second number\n",
    " Find the result of the first num to the power of the second number.\n"
   ]
  },
  {
   "cell_type": "code",
   "execution_count": 4,
   "id": "65bd8da4",
   "metadata": {},
   "outputs": [
    {
     "name": "stdout",
     "output_type": "stream",
     "text": [
      "Sum of num1 and num2 is:  32\n",
      "\n",
      "Difference of num1 and num2 is:  8\n",
      "\n",
      "Product of num1 and num2 is:  240\n",
      "\n",
      "Division of num1 and num2 is:  1.6666666666666667\n",
      "\n",
      "Remainder of num1 and num2 is:  8\n",
      "\n",
      "Power of num1 and num2 is:  4096000000000000\n",
      "\n"
     ]
    }
   ],
   "source": [
    "num1=20\n",
    "num2=12\n",
    "#Find sum of both numbers\n",
    "print(\"Sum of num1 and num2 is: \",num1+num2)\n",
    "print()\n",
    "#Find difference between them\n",
    "print(\"Difference of num1 and num2 is: \",num1-num2)\n",
    "print()\n",
    "#Find the product of both numbers.\n",
    "print(\"Product of num1 and num2 is: \",num1*num2)\n",
    "print()\n",
    "#Find value after dividing first num with second number\n",
    "print(\"Division of num1 and num2 is: \",num1/num2)\n",
    "print()\n",
    "#Find the remainder after dividing first number with second number\n",
    "print(\"Remainder of num1 and num2 is: \",num1%num2)\n",
    "print()\n",
    "#Find the result of the first num to the power of the second number.\n",
    "print(\"Power of num1 and num2 is: \",pow(num1,num2))\n",
    "print()"
   ]
  },
  {
   "cell_type": "code",
   "execution_count": null,
   "id": "4a8a8310",
   "metadata": {},
   "outputs": [],
   "source": [
    "Q. Comparison Operators on integers\n",
    "Take two different integer values.\n",
    "Store them in two different variables.\n",
    "Do below operations on them:-\n",
    " Compare se two numbers with below operator:-\n",
    " Greater than, '>'\n",
    " Smaller than, '<'\n",
    " Greater than or equal to, '>='\n",
    " Less than or equal to, '<='\n",
    "Observe their output(return type should be boolean"
   ]
  },
  {
   "cell_type": "code",
   "execution_count": 5,
   "id": "875c62c0",
   "metadata": {},
   "outputs": [
    {
     "name": "stdout",
     "output_type": "stream",
     "text": [
      "Greater than or not Using > :  False\n",
      "\n",
      "Smaller than or not Using < :  True\n",
      "\n",
      "Greater than or Equal to or not Using >= :  False\n",
      "\n",
      "Lesser than or Equal to not Using <= :  True\n",
      "\n"
     ]
    }
   ],
   "source": [
    "num1=10\n",
    "num2=12\n",
    "print(\"Greater than or not Using > : \",num1>num2)\n",
    "print()\n",
    "print(\"Smaller than or not Using < : \",num1<num2)\n",
    "print()\n",
    "print(\"Greater than or Equal to or not Using >= : \",num1>=num2)\n",
    "print()\n",
    "print(\"Lesser than or Equal to not Using <= : \",num1<=num2)\n",
    "print()"
   ]
  },
  {
   "cell_type": "code",
   "execution_count": null,
   "id": "51f5c230",
   "metadata": {},
   "outputs": [],
   "source": [
    "Q. Equality Operator\n",
    "Take two different integer values.\n",
    "Store them in two different variables.\n",
    "Equate them using equality operators (==, !=)\n",
    "Observe the output(return type should be boolean)"
   ]
  },
  {
   "cell_type": "code",
   "execution_count": 6,
   "id": "52ea17f8",
   "metadata": {},
   "outputs": [
    {
     "name": "stdout",
     "output_type": "stream",
     "text": [
      "Checking Equal:  True\n",
      "\n",
      "Checking Not Equal:  False\n"
     ]
    }
   ],
   "source": [
    "num1=20\n",
    "num2=20\n",
    "print(\"Checking Equal: \",num1==num2)\n",
    "print()\n",
    "print(\"Checking Not Equal: \",num1!=num2)"
   ]
  },
  {
   "cell_type": "raw",
   "id": "6c96d21c",
   "metadata": {},
   "source": [
    "Q. What is the output of expression inside print statement. Cross check\n",
    "before running the program.\n",
    "a = 10\n",
    "b = 10\n",
    "print(a is b) \n",
    "Output: True\n",
    "print(a is not b) #True or False?\n",
    "Output: False\n",
    "a = 1000\n",
    "b = 1000\n",
    "print(a is b) #True or False?\n",
    "Output: False\n",
    "print(a is not b) #True or False?\n",
    "Output: True"
   ]
  },
  {
   "cell_type": "raw",
   "id": "521bdeb8",
   "metadata": {},
   "source": [
    "Q. What is the output of expression inside print statement. Cross check\n",
    "before running the program.\n",
    "print(10+(10*32)//2**5&20+(~(-10))<<2)\n",
    "step1:parenthesis(10*32)=320 \n",
    "                ~(-10)==9\n",
    "    print(10+320//2**5&20+9<<2)\n",
    "step2: **    2**5==32\n",
    "    print(10+320//32&20+9<<2)\n",
    "STEP3: //\n",
    "    print(10+10&20+9<<2)\n",
    "STEP4: +\n",
    "    print(20&29<<2)\n",
    "step5: <<\n",
    "    print(20&116)\n",
    "step 6: \n",
    "    output: 20"
   ]
  },
  {
   "cell_type": "code",
   "execution_count": 7,
   "id": "50c5131d",
   "metadata": {},
   "outputs": [
    {
     "name": "stdout",
     "output_type": "stream",
     "text": [
      "20\n"
     ]
    }
   ],
   "source": [
    "print(10+(10*32)//2**5&20+(~(-10))<<2)"
   ]
  },
  {
   "cell_type": "raw",
   "id": "be9ad0bf",
   "metadata": {},
   "source": [
    "Q. Membership operation\n",
    "in, not in are two membership operators and it returns boolean value\n",
    "print('2' in 'Python2.7.8')\n",
    "output: True\n",
    "print(10 in [10,10.20,10+20j,'Python'])\n",
    "output: True\n",
    "print(10 in (10,10.20,10+20j,'Python'))\n",
    "output: True\n",
    "print(2 in {1,2,3})\n",
    "output: True\n",
    "print(3 in {1:100, 2:200, 3:300})\n",
    "output: True\n",
    "print(10 in range(20))\n",
    "output: True"
   ]
  },
  {
   "cell_type": "code",
   "execution_count": null,
   "id": "b1fa8031",
   "metadata": {},
   "outputs": [],
   "source": [
    "Q. An integer can be represented in binary, octal or hexadecimal form.\n",
    "Declare one binary, one octal and one hexadecimal value and store them\n",
    "in three different variables.\n",
    "Convert 9876 to its binary, octal and hexadecimal equivalent and print\n",
    "their corresponding value.\n"
   ]
  },
  {
   "cell_type": "code",
   "execution_count": 20,
   "id": "92b767c0",
   "metadata": {},
   "outputs": [
    {
     "name": "stdout",
     "output_type": "stream",
     "text": [
      "Binary:  0b10011010010100\n",
      "Octal:  0o23224\n"
     ]
    }
   ],
   "source": [
    "bi=0b1011\n",
    "oc=0o123\n",
    "hex=0xFFFF\n",
    "num=9876\n",
    "print(\"Binary: \",bin(num))\n",
    "print(\"Octal: \",oct(num))\n",
    "#print(\"Hexadecimal: \",hex(num))"
   ]
  },
  {
   "cell_type": "raw",
   "id": "5c8cd1b3",
   "metadata": {},
   "source": [
    "#Q. What will be the output of following:-\n",
    "a = 0b1010000\n",
    "print(a)\n",
    "Output: 80\n",
    "b = 0o7436\n",
    "print(b)\n",
    "Output: 3870\n",
    "c = 0xfade\n",
    "print(c)\n",
    "Output: 64222\n",
    "print(bin(80))\n",
    "Output: 0b1010000\n",
    "print(oct(3870))\n",
    "Output: 0o7436\n",
    "print(hex(64222))\n",
    "Output:fade\n",
    "print(bin(0b1010000))\n",
    "output:0b1010000\n",
    "print(bin(0xfade))\n",
    "output:0b1111101011011110\n",
    "print(oct(0xfade))\n",
    "output:0o175336\n",
    "print(oct(0o7436))\n",
    "output:0o7436\n",
    "print(hex(0b1010000))\n",
    "output:0x50\n",
    "print(hex(0xfade))\n",
    "output:0xfade"
   ]
  },
  {
   "cell_type": "code",
   "execution_count": null,
   "id": "79b80960",
   "metadata": {},
   "outputs": [],
   "source": []
  }
 ],
 "metadata": {
  "kernelspec": {
   "display_name": "Python 3 (ipykernel)",
   "language": "python",
   "name": "python3"
  },
  "language_info": {
   "codemirror_mode": {
    "name": "ipython",
    "version": 3
   },
   "file_extension": ".py",
   "mimetype": "text/x-python",
   "name": "python",
   "nbconvert_exporter": "python",
   "pygments_lexer": "ipython3",
   "version": "3.9.12"
  }
 },
 "nbformat": 4,
 "nbformat_minor": 5
}
